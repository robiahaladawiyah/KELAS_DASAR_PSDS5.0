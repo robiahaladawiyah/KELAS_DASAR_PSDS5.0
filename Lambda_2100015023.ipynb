{
  "nbformat": 4,
  "nbformat_minor": 0,
  "metadata": {
    "colab": {
      "provenance": []
    },
    "kernelspec": {
      "name": "python3",
      "display_name": "Python 3"
    },
    "language_info": {
      "name": "python"
    }
  },
  "cells": [
    {
      "cell_type": "markdown",
      "source": [
        "1. Buatlah fungsi lamda untuk menghitung luas dari persegi panjang.\n",
        "\n",
        "```\n",
        "*  input berupa variabel P dan l.\n",
        "*  fungsi lamda disimpan dalam variabel `Luas_Persegi_Panjang`\n",
        "*  jika fungsi lamda dijalankan akan menghasilkan output \"Luas Persegi Panjang anda *(luasnya)* Cm\".\n",
        "```"
      ],
      "metadata": {
        "id": "eXdAH7_XHLsv"
      }
    },
    {
      "cell_type": "code",
      "source": [
        "# Luas Persegi Panjang\n",
        "Luas_Persegi_Panjang = lambda p,l: print(f\"Luas Persegi Panjang = {p*l} cm\")\n",
        "Luas_Persegi_Panjang(3,4)\n"
      ],
      "metadata": {
        "colab": {
          "base_uri": "https://localhost:8080/"
        },
        "id": "Y1KFL2i7HI5T",
        "outputId": "6be84d68-97e6-48eb-a0c4-bf281a0bed31"
      },
      "execution_count": 1,
      "outputs": [
        {
          "output_type": "stream",
          "name": "stdout",
          "text": [
            "Luas Persegi Panjang = 12 cm\n"
          ]
        }
      ]
    },
    {
      "cell_type": "markdown",
      "source": [
        "2. Buatlah fungsi lamda untuk menghitung luas dari segitiga\n",
        "\n",
        "```\n",
        "*  input berupa variabel a dan t\n",
        "*  fungsi lamda disimpan dalam variabel `Lua_Segitiga`\n",
        "*  jika fungsi lamda dijalankan akan menghasilkan output \"Luas Segitiga anda *(luasnya)* Cm\"\n",
        "```"
      ],
      "metadata": {
        "id": "wwCsimrCHQU6"
      }
    },
    {
      "cell_type": "code",
      "source": [
        "# Luas Segitiga\n",
        "Luas_Segitiga = lambda a,t: print(f\"Luas Segitiga = {1/2*a*t} cm\")\n",
        "Luas_Segitiga(8,12)"
      ],
      "metadata": {
        "colab": {
          "base_uri": "https://localhost:8080/"
        },
        "id": "Y25Yj61VHRYH",
        "outputId": "6c336e73-6fa8-4040-bd99-611249b2d373"
      },
      "execution_count": 2,
      "outputs": [
        {
          "output_type": "stream",
          "name": "stdout",
          "text": [
            "Luas Segitiga = 48.0 cm\n"
          ]
        }
      ]
    }
  ]
}